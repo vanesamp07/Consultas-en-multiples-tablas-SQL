{
  "nbformat": 4,
  "nbformat_minor": 0,
  "metadata": {
    "colab": {
      "provenance": [],
      "authorship_tag": "ABX9TyMKTGv8sE2bvIhVgivvf2U3",
      "include_colab_link": true
    },
    "kernelspec": {
      "name": "python3",
      "display_name": "Python 3"
    },
    "language_info": {
      "name": "python"
    }
  },
  "cells": [
    {
      "cell_type": "markdown",
      "metadata": {
        "id": "view-in-github",
        "colab_type": "text"
      },
      "source": [
        "<a href=\"https://colab.research.google.com/github/vanesamp07/Consultas-en-multiples-tablas-SQL/blob/main/Vanesa_Martinez_desafio2.ipynb\" target=\"_parent\"><img src=\"https://colab.research.google.com/assets/colab-badge.svg\" alt=\"Open In Colab\"/></a>"
      ]
    },
    {
      "cell_type": "markdown",
      "source": [
        "Inicialmente, le pedimos al usuario ingresar los dos primeros numeros interos mediante un int(entero) y un input"
      ],
      "metadata": {
        "id": "ap442S9W2FN8"
      }
    },
    {
      "cell_type": "code",
      "source": [
        "numero1 = int(input(\"Ingrese el primer numero entero: \"))"
      ],
      "metadata": {
        "colab": {
          "base_uri": "https://localhost:8080/"
        },
        "id": "mjpanuDzzanv",
        "outputId": "1f3f22c6-88ca-437b-fcf7-9299573951b0"
      },
      "execution_count": 23,
      "outputs": [
        {
          "name": "stdout",
          "output_type": "stream",
          "text": [
            "Ingrese el primer numero entero: 9\n"
          ]
        }
      ]
    },
    {
      "cell_type": "code",
      "source": [
        "numero2 = int(input(\"Ingrese el segundo numero entero: \"))"
      ],
      "metadata": {
        "colab": {
          "base_uri": "https://localhost:8080/"
        },
        "id": "vaym62jozfJs",
        "outputId": "7caa1073-5b95-4b14-8d96-5205db3bd1a7"
      },
      "execution_count": 24,
      "outputs": [
        {
          "name": "stdout",
          "output_type": "stream",
          "text": [
            "Ingrese el segundo numero entero: 39\n"
          ]
        }
      ]
    },
    {
      "cell_type": "markdown",
      "source": [
        "Revisamos que el primer numero entero sea menor que el segundo"
      ],
      "metadata": {
        "id": "GjMfI4Tm2Yh2"
      }
    },
    {
      "cell_type": "code",
      "source": [
        "if numero1 > numero2:\n",
        "    numero1, numero2 = numero2, numero1"
      ],
      "metadata": {
        "id": "kG3sKOIW1gfX"
      },
      "execution_count": 25,
      "outputs": []
    },
    {
      "cell_type": "markdown",
      "source": [
        "Realizamos la suma utilizando ciclo for y range"
      ],
      "metadata": {
        "id": "okGL_uBC2eF6"
      }
    },
    {
      "cell_type": "code",
      "source": [
        "suma_pares = sum(numero for numero in range(numero1, numero2 + 1) if numero % 2 == 0)"
      ],
      "metadata": {
        "id": "CQDmRF6z138a"
      },
      "execution_count": 26,
      "outputs": []
    },
    {
      "cell_type": "markdown",
      "source": [
        "Imprimimos el resultado de la suma de los pares entre ambos numeros ingresados"
      ],
      "metadata": {
        "id": "VR_ZYdj82kEp"
      }
    },
    {
      "cell_type": "code",
      "source": [
        "print(\"La suma de todos los números pares entre\", numero1, \"y\", numero2, \"es:\", suma_pares)\n"
      ],
      "metadata": {
        "colab": {
          "base_uri": "https://localhost:8080/"
        },
        "id": "qmgiBI8J15-E",
        "outputId": "4924601a-076d-44ce-abeb-e4841259a263"
      },
      "execution_count": 27,
      "outputs": [
        {
          "output_type": "stream",
          "name": "stdout",
          "text": [
            "La suma de todos los números pares entre 9 y 39 es: 360\n"
          ]
        }
      ]
    },
    {
      "cell_type": "code",
      "source": [],
      "metadata": {
        "id": "Ic-0-wi517Hh"
      },
      "execution_count": null,
      "outputs": []
    }
  ]
}